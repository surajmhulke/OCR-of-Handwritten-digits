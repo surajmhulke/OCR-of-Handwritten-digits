{
  "nbformat": 4,
  "nbformat_minor": 0,
  "metadata": {
    "colab": {
      "provenance": []
    },
    "kernelspec": {
      "name": "python3",
      "display_name": "Python 3"
    },
    "language_info": {
      "name": "python"
    }
  },
  "cells": [
    {
      "cell_type": "code",
      "source": [
        "import numpy as np\n",
        "import cv2\n",
        "\n",
        "# Read the image\n",
        "image = cv2.imread('digits.png')\n",
        "\n",
        "# gray scale conversion\n",
        "gray_img = cv2.cvtColor(image, cv2.COLOR_BGR2GRAY)\n",
        "\n",
        "# We will divide the image into 5000 small dimensions of size 20x20\n",
        "divisions = list(np.hsplit(i, 100) for i in np.vsplit(gray_img, 50))\n",
        "\n",
        "# Convert into Numpy array of size (50,100,20,20)\n",
        "NP_array = np.array(divisions)\n",
        "\n",
        "# Preparing train_data and test_data.\n",
        "# Size will be (2500,20x20)\n",
        "train_data = NP_array[:, :50].reshape(-1, 400).astype(np.float32)\n",
        "\n",
        "# Size will be (2500,20x20)\n",
        "test_data = NP_array[:, 50:100].reshape(-1, 400).astype(np.float32)\n",
        "\n",
        "# Create 10 different labels for each type of digit\n",
        "k = np.arange(10)\n",
        "train_labels = np.repeat(k, 250)[:, np.newaxis]\n",
        "test_labels = np.repeat(k, 250)[:, np.newaxis]\n",
        "\n",
        "# Initiate kNN classifier\n",
        "knn = cv2.ml.KNearest_create()\n",
        "\n",
        "# perform training of data\n",
        "knn.train(train_data, cv2.ml.ROW_SAMPLE, train_labels)\n",
        "\n",
        "# obtain the output from the classifier by specifying the number of neighbors.\n",
        "ret, output, neighbours, distance = knn.findNearest(test_data, k=3)\n",
        "\n",
        "# Check the performance and accuracy of the classifier.\n",
        "# Compare the output with test_labels to find out how many are wrong.\n",
        "matched = output == test_labels\n",
        "\n",
        "correct_OP = np.count_nonzero(matched)\n",
        "\n",
        "# Calculate the accuracy.\n",
        "accuracy = (correct_OP * 100.0) / output.size\n",
        "\n",
        "# Display accuracy.\n",
        "print(accuracy)"
      ],
      "metadata": {
        "colab": {
          "base_uri": "https://localhost:8080/"
        },
        "id": "XkplnT1Nwt3f",
        "outputId": "0cd1f976-1e70-4094-e56c-3642f55fb7b2"
      },
      "execution_count": 5,
      "outputs": [
        {
          "output_type": "stream",
          "name": "stdout",
          "text": [
            "91.64\n"
          ]
        }
      ]
    }
  ]
}